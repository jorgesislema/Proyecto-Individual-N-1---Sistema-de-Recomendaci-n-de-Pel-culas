{
 "cells": [
  {
   "cell_type": "markdown",
   "metadata": {},
   "source": [
    "El  documento movies_dataset.csv posee varias columnas anidadas las cuales procederemos a desanidar"
   ]
  },
  {
   "cell_type": "markdown",
   "metadata": {},
   "source": [
    "Importamos las librerías que usaremos "
   ]
  },
  {
   "cell_type": "code",
   "execution_count": 2,
   "metadata": {},
   "outputs": [],
   "source": [
    "import pandas as pd\n",
    "import ast\n",
    "import json\n",
    "import numpy as np\n",
    "import matplotlib.pyplot as plt"
   ]
  },
  {
   "cell_type": "code",
   "execution_count": 5,
   "metadata": {},
   "outputs": [
    {
     "name": "stdout",
     "output_type": "stream",
     "text": [
      "\n",
      "Proceso completado. Los datos desanidados y formateados se han guardado en un archivo separado.\n"
     ]
    }
   ],
   "source": [
    "# Cargar el archivo movies_dataset en un DataFrame con low_memory=False\n",
    "file_path = 'C:/Users/jrgsi/OneDrive/Escritorio/PROUECTOS HENRY/SISTEMA DE RECOMENDACION PELICULAS/datos/movies_dataset.csv'\n",
    "movies_dataset = pd.read_csv(file_path, low_memory=False)\n",
    "\n",
    "# Función para evaluar listas en cadenas\n",
    "def evaluacion(value):\n",
    "    if isinstance(value, list):\n",
    "        return value\n",
    "    if pd.isna(value) or value == '':\n",
    "        return []\n",
    "    try:\n",
    "        return ast.literal_eval(value)\n",
    "    except (SyntaxError, ValueError):\n",
    "        return []\n",
    "\n",
    "# Aplicamos la función de evaluación a las columnas que pueden tener listas como cadenas\n",
    "columns_to_evaluate = ['genres', 'production_companies', 'production_countries', 'spoken_languages', 'belongs_to_collection']\n",
    "for col in columns_to_evaluate:\n",
    "    movies_dataset[col] = movies_dataset[col].apply(evaluacion)\n",
    "\n",
    "# Proceso de desanidación usando explode y json_normalize\n",
    "# Código de desanidación para cada columna (genres, production_companies, production_countries, etc.)\n",
    "# Este proceso es el mismo que el que has escrito previamente\n",
    "# Desanidamos y concatenamos cada columna\n",
    "# Desanidar 'genres'\n",
    "movies_dataset_genres = movies_dataset.explode('genres')\n",
    "genres_df = pd.json_normalize(movies_dataset_genres['genres'])\n",
    "if not genres_df.empty:\n",
    "    genres_df = genres_df[['id', 'name']].rename(columns={'id': 'genre_id', 'name': 'genre_name'})\n",
    "    movies_dataset_genres = pd.concat([movies_dataset_genres.reset_index(drop=True), genres_df.reset_index(drop=True)], axis=1)\n",
    "movies_dataset_genres = movies_dataset_genres.drop(columns=['genres'])\n",
    "\n",
    "# Desanidar 'production_companies'\n",
    "movies_dataset_companies = movies_dataset_genres.explode('production_companies')\n",
    "companies_df = pd.json_normalize(movies_dataset_companies['production_companies'])\n",
    "if not companies_df.empty:\n",
    "    companies_df = companies_df[['id', 'name']].rename(columns={'id': 'production_company_id', 'name': 'production_company_name'})\n",
    "    movies_dataset_companies = pd.concat([movies_dataset_companies.reset_index(drop=True), companies_df.reset_index(drop=True)], axis=1)\n",
    "movies_dataset_companies = movies_dataset_companies.drop(columns=['production_companies'])\n",
    "\n",
    "# Desanidar 'production_countries'\n",
    "movies_dataset_countries = movies_dataset_companies.explode('production_countries')\n",
    "countries_df = pd.json_normalize(movies_dataset_countries['production_countries'])\n",
    "if not countries_df.empty:\n",
    "    countries_df = countries_df[['iso_3166_1', 'name']].rename(columns={'iso_3166_1': 'country_iso', 'name': 'country_name'})\n",
    "    movies_dataset_countries = pd.concat([movies_dataset_countries.reset_index(drop=True), countries_df.reset_index(drop=True)], axis=1)\n",
    "movies_dataset_countries = movies_dataset_countries.drop(columns=['production_countries'])\n",
    "\n",
    "# Desanidar 'spoken_languages'\n",
    "movies_dataset_languages = movies_dataset_countries.explode('spoken_languages')\n",
    "languages_df = pd.json_normalize(movies_dataset_languages['spoken_languages'])\n",
    "if not languages_df.empty:\n",
    "    languages_df = languages_df[['iso_639_1', 'name']].rename(columns={'iso_639_1': 'language_iso', 'name': 'language_name'})\n",
    "    movies_dataset_languages = pd.concat([movies_dataset_languages.reset_index(drop=True), languages_df.reset_index(drop=True)], axis=1)\n",
    "movies_dataset_languages = movies_dataset_languages.drop(columns=['spoken_languages'])\n",
    "\n",
    "# Desanidadamos 'belongs_to_collection'\n",
    "movies_dataset_collections = movies_dataset_languages.explode('belongs_to_collection')\n",
    "collections_df = pd.json_normalize(movies_dataset_collections['belongs_to_collection'])\n",
    "if not collections_df.empty:\n",
    "    collections_df = collections_df[['id', 'name', 'poster_path', 'backdrop_path']].rename(\n",
    "        columns={'id': 'collection_id', 'name': 'collection_name', 'poster_path': 'collection_poster_path', 'backdrop_path': 'collection_backdrop_path'}\n",
    "    )\n",
    "    movies_dataset_collections = pd.concat([movies_dataset_collections.reset_index(drop=True), collections_df.reset_index(drop=True)], axis=1)\n",
    "movies_dataset_collections = movies_dataset_collections.drop(columns=['belongs_to_collection'])\n",
    "\n",
    "# Creamos lista de columnas finales y filtrar las que realmente existen\n",
    "final_columns = [\n",
    "    'adult', 'collection_id', 'collection_name', 'collection_poster_path', 'collection_backdrop_path', 'budget',\n",
    "    'genre_id', 'genre_name', 'homepage', 'id', 'imdb_id', 'original_language', 'original_title', 'overview',\n",
    "    'popularity', 'poster_path', 'production_company_id', 'production_company_name', 'country_iso', 'country_name',\n",
    "    'release_date', 'revenue', 'runtime', 'language_iso', 'language_name', 'status', 'tagline', 'title', 'video',\n",
    "    'vote_average', 'vote_count'\n",
    "]\n",
    "existing_final_columns = [col for col in final_columns if col in movies_dataset_collections.columns]\n",
    "movies_dataset_final = movies_dataset_collections[existing_final_columns].copy()\n",
    "#En varias pruebas anteriores al copiar las filas pasaban todas a dato float por eso decidimos establecer en este punto el tipo de dato \n",
    "\n",
    "# Convertimos 'budget' y 'revenue' a enteros y rellenar nulos con 0\n",
    "# Asegúrate de que 'revenue' y 'budget' sean numéricos, rellenando nulos con 0\n",
    "movies_dataset_final['revenue'] = pd.to_numeric(movies_dataset_final['revenue'], errors='coerce').fillna(0).astype(int)\n",
    "movies_dataset_final['budget'] = pd.to_numeric(movies_dataset_final['budget'], errors='coerce').fillna(0).astype(int)\n",
    "\n",
    "\n",
    "# Convertimos 'vote_average' y 'popularity' a flotantes redondeados a 2 decimales\n",
    "movies_dataset_final.loc[:, 'vote_average'] = pd.to_numeric(movies_dataset_final['vote_average'], errors='coerce').fillna(0).round(2)\n",
    "movies_dataset_final.loc[:, 'popularity'] = pd.to_numeric(movies_dataset_final['popularity'], errors='coerce').fillna(0).round(2)\n",
    "\n",
    "\n",
    "# Guardar el DataFrame final en un nuevo archivo CSV\n",
    "output_path = 'C:/Users/jrgsi/OneDrive/Escritorio/PROUECTOS HENRY/SISTEMA DE RECOMENDACION PELICULAS/datos/movies_dataset_desanidado.csv'\n",
    "movies_dataset_final.to_csv(output_path, index=False)\n",
    "\n",
    "print(\"\\nProceso completado. Los datos desanidados y formateados se han guardado en un archivo separado.\")\n",
    "\n",
    "\n"
   ]
  },
  {
   "cell_type": "markdown",
   "metadata": {},
   "source": [
    "En este paso cumpliremos con las consignas solicitadas para este proyecto .\n",
    "•\tAlgunos campos, como belongs_to_collection, production_companies y otros (ver diccionario de datos) están anidados, esto es o bien tienen un diccionario o una lista como valores en cada fila, ¡deberán desanidarlos para poder y unirlos al dataset de nuevo hacer alguna de las consultas de la API! O bien buscar la manera de acceder a esos datos sin desanidarlos.\n",
    "•\tLos valores nulos de los campos revenue, budget deben ser rellenados por el número 0.\n",
    "•\tLos valores nulos del campo release date deben eliminarse.\n",
    "•\tDe haber fechas, deberán tener el formato AAAA-mm-dd, además deberán crear la columna release_year donde extraerán el año de la fecha de estreno.\n",
    "•\tCrear la columna con el retorno de inversión, llamada return con los campos revenue y budget, dividiendo estas dos últimas revenue / budget, cuando no hay datos disponibles para calcularlo, deberá tomar el valor 0.\n",
    "•\tEliminar las columnas que no serán utilizadas, video,imdb_id,adult,original_title,poster_path y homepage.\n"
   ]
  },
  {
   "cell_type": "code",
   "execution_count": 7,
   "metadata": {},
   "outputs": [
    {
     "name": "stdout",
     "output_type": "stream",
     "text": [
      "\n",
      "Proceso completado. El archivo limpio se ha guardado en: C:/Users/jrgsi/OneDrive/Escritorio/PROUECTOS HENRY/SISTEMA DE RECOMENDACION PELICULAS/datos/movies_dataset_desanidado.csv\n",
      "\n",
      "Columnas en el archivo guardado: Index(['budget', 'genre_name', 'homepage', 'id', 'original_language',\n",
      "       'popularity', 'production_company_id', 'production_company_name',\n",
      "       'country_iso', 'country_name', 'release_date', 'revenue',\n",
      "       'language_iso', 'language_name', 'tagline', 'title', 'vote_average',\n",
      "       'vote_count', 'return', 'release_year'],\n",
      "      dtype='object')\n"
     ]
    },
    {
     "name": "stderr",
     "output_type": "stream",
     "text": [
      "C:\\Users\\jrgsi\\AppData\\Local\\Temp\\ipykernel_20744\\4193841391.py:35: DtypeWarning: Columns (3) have mixed types. Specify dtype option on import or set low_memory=False.\n",
      "  movies_dataset_verificado = pd.read_csv(output_path)\n"
     ]
    }
   ],
   "source": [
    "# Cargamos el archivo desanidado\n",
    "movies_dataset_desanidado = pd.read_csv('C:/Users/jrgsi/OneDrive/Escritorio/PROUECTOS HENRY/SISTEMA DE RECOMENDACION PELICULAS/datos/movies_dataset_desanidado.csv', low_memory=False)\n",
    "\n",
    "# Eliminamos filas duplicadas y hacemos una copia para evitar vistas\n",
    "movies_dataset_desanidado = movies_dataset_desanidado.drop_duplicates().copy()\n",
    "\n",
    "# Nos aseguramos de que 'revenue' y 'budget' son numéricos, rellenando nulos con 0\n",
    "movies_dataset_desanidado['revenue'] = pd.to_numeric(movies_dataset_desanidado['revenue'], errors='coerce').fillna(0)\n",
    "movies_dataset_desanidado['budget'] = pd.to_numeric(movies_dataset_desanidado['budget'], errors='coerce').fillna(0)\n",
    "\n",
    "# Creamos la columna 'return' para el retorno de inversión (revenue / budget)\n",
    "movies_dataset_desanidado['return'] = movies_dataset_desanidado.apply(\n",
    "    lambda row: row['revenue'] / row['budget'] if row['budget'] > 0 else 0,\n",
    "    axis=1\n",
    ")\n",
    "\n",
    "# Convertimos 'release_date' al formato de fecha y extraemos el año\n",
    "movies_dataset_desanidado['release_date'] = pd.to_datetime(movies_dataset_desanidado['release_date'], errors='coerce')\n",
    "movies_dataset_desanidado['release_year'] = movies_dataset_desanidado['release_date'].dt.year\n",
    "\n",
    "# Nos aseguramos de que 'release_year' se guarde como entero\n",
    "movies_dataset_desanidado['release_year'] = movies_dataset_desanidado['release_year'].fillna(0).astype(int)\n",
    "\n",
    "# Definimos y eliminamos columnas innecesarias\n",
    "columns_to_drop = ['video', 'imdb_id', 'adult', 'original_title', 'poster_path', 'overview', 'status', 'runtime', 'genre_id']\n",
    "existing_columns_to_drop = [col for col in columns_to_drop if col in movies_dataset_desanidado.columns]\n",
    "movies_dataset_desanidado = movies_dataset_desanidado.drop(columns=existing_columns_to_drop)\n",
    "\n",
    "# Guardamos el archivo limpio en un nuevo archivo CSV\n",
    "output_path = 'C:/Users/jrgsi/OneDrive/Escritorio/PROUECTOS HENRY/SISTEMA DE RECOMENDACION PELICULAS/datos/movies_dataset_desanidado.csv'\n",
    "movies_dataset_desanidado.to_csv(output_path, index=False)\n",
    "print(\"\\nProceso completado. El archivo limpio se ha guardado en:\", output_path)\n",
    "\n",
    "# Cargamos el archivo guardado para verificar las columnas\n",
    "movies_dataset_verificado = pd.read_csv(output_path)\n",
    "print(\"\\nColumnas en el archivo guardado:\", movies_dataset_verificado.columns)\n",
    "\n",
    "\n"
   ]
  },
  {
   "cell_type": "markdown",
   "metadata": {},
   "source": [
    "Para una mejor comprensión cabíamos los nombres de columnas a español"
   ]
  },
  {
   "cell_type": "code",
   "execution_count": 8,
   "metadata": {},
   "outputs": [
    {
     "name": "stderr",
     "output_type": "stream",
     "text": [
      "C:\\Users\\jrgsi\\AppData\\Local\\Temp\\ipykernel_20744\\2796991293.py:5: DtypeWarning: Columns (3) have mixed types. Specify dtype option on import or set low_memory=False.\n",
      "  df = pd.read_csv(file_path)\n"
     ]
    },
    {
     "name": "stdout",
     "output_type": "stream",
     "text": [
      "  id_pelicula     titulo nombre_genero idioma_original codigo_idioma_iso  \\\n",
      "0         862  Toy Story     Animation              en                en   \n",
      "1         862  Toy Story        Comedy              en                en   \n",
      "2         862  Toy Story        Family              en                en   \n",
      "3        8844    Jumanji     Adventure              en                en   \n",
      "4        8844    Jumanji     Adventure              en                fr   \n",
      "\n",
      "  nombre_idioma nombre_compania_produccion               nombre_pais  \\\n",
      "0       English    Pixar Animation Studios  United States of America   \n",
      "1       English    Pixar Animation Studios  United States of America   \n",
      "2       English    Pixar Animation Studios  United States of America   \n",
      "3       English           TriStar Pictures  United States of America   \n",
      "4      Français           TriStar Pictures  United States of America   \n",
      "\n",
      "   anio_estreno fecha_estreno  presupuesto   ingresos  retorno_inversion  \\\n",
      "0          1995    1995-10-30     30000000  373554033          12.451801   \n",
      "1          1995    1995-10-30     30000000  373554033          12.451801   \n",
      "2          1995    1995-10-30     30000000  373554033          12.451801   \n",
      "3          1995    1995-12-15     65000000  262797249           4.043035   \n",
      "4          1995    1995-12-15     65000000  262797249           4.043035   \n",
      "\n",
      "   popularidad  promedio_votos  cantidad_votos  \n",
      "0        21.95             7.7          5415.0  \n",
      "1        21.95             7.7          5415.0  \n",
      "2        21.95             7.7          5415.0  \n",
      "3        17.02             6.9          2413.0  \n",
      "4        17.02             6.9          2413.0  \n"
     ]
    }
   ],
   "source": [
    "# Ingresamos la ruta del archivo\n",
    "file_path = 'C:/Users/jrgsi/OneDrive/Escritorio/PROUECTOS HENRY/SISTEMA DE RECOMENDACION PELICULAS/datos/movies_dataset_desanidado.csv'\n",
    "\n",
    "# Cargamos el Data frame\n",
    "df = pd.read_csv(file_path)\n",
    "\n",
    "# Renombramos las columnas en español\n",
    "df.rename(columns={\n",
    "    'id': 'id_pelicula',\n",
    "    'genre_name': 'nombre_genero',\n",
    "    'title': 'titulo',\n",
    "    'language_iso': 'codigo_idioma_iso',\n",
    "    'language_name': 'nombre_idioma',\n",
    "    'original_language': 'idioma_original',\n",
    "    'production_company_name': 'nombre_compania_produccion',\n",
    "    'country_name': 'nombre_pais',\n",
    "    'release_year': 'anio_estreno',\n",
    "    'release_date': 'fecha_estreno',\n",
    "    'popularity': 'popularidad',\n",
    "    'vote_average': 'promedio_votos',\n",
    "    'vote_count': 'cantidad_votos',\n",
    "    'budget': 'presupuesto',\n",
    "    'revenue': 'ingresos',\n",
    "    'return': 'retorno_inversion'\n",
    "}, inplace=True)\n",
    "\n",
    "# Cambiamos el orden de las columnas\n",
    "columnas_ordenadas = [\n",
    "    'id_pelicula', 'titulo', 'nombre_genero', 'idioma_original', 'codigo_idioma_iso', \n",
    "    'nombre_idioma', 'nombre_compania_produccion', 'nombre_pais', 'anio_estreno', \n",
    "    'fecha_estreno', 'presupuesto', 'ingresos', 'retorno_inversion', 'popularidad', \n",
    "    'promedio_votos', 'cantidad_votos'\n",
    "]\n",
    "\n",
    "# Filtramos solo las columnas necesarias en el orden especificado\n",
    "df = df[[col for col in columnas_ordenadas if col in df.columns]]\n",
    "\n",
    "\n",
    "\n",
    "# Guardamos el DataFrame con las columnas renombradas y ordenadas\n",
    "df.to_csv('C:/Users/jrgsi/OneDrive/Escritorio/PROUECTOS HENRY/SISTEMA DE RECOMENDACION PELICULAS/datos/movies_dataset_desanidado.csv', index=False)\n",
    "\n",
    "print(df.head())\n"
   ]
  },
  {
   "cell_type": "markdown",
   "metadata": {},
   "source": [
    "Al cumplir la consigna de crear la columna de retorno de inversión nos percatamos que en las columnas usadas hay demasiados datos con valor cero esto creara errores en los cálculos y gráficos y al faltar datos decidí borrar las fils que les falte datos para el calculo del retorno "
   ]
  },
  {
   "cell_type": "code",
   "execution_count": 13,
   "metadata": {},
   "outputs": [
    {
     "name": "stdout",
     "output_type": "stream",
     "text": [
      "Nueva cantidad de filas después de eliminar valores cero: 118161\n",
      "  id_pelicula     titulo nombre_genero idioma_original codigo_idioma_iso  \\\n",
      "0         862  Toy Story     Animation              en                en   \n",
      "1         862  Toy Story        Comedy              en                en   \n",
      "2         862  Toy Story        Family              en                en   \n",
      "3        8844    Jumanji     Adventure              en                en   \n",
      "4        8844    Jumanji     Adventure              en                fr   \n",
      "\n",
      "  nombre_idioma nombre_compania_produccion               nombre_pais  \\\n",
      "0       English    Pixar Animation Studios  United States of America   \n",
      "1       English    Pixar Animation Studios  United States of America   \n",
      "2       English    Pixar Animation Studios  United States of America   \n",
      "3       English           TriStar Pictures  United States of America   \n",
      "4      Français           TriStar Pictures  United States of America   \n",
      "\n",
      "   anio_estreno fecha_estreno  presupuesto   ingresos  retorno_inversion  \\\n",
      "0          1995    1995-10-30     30000000  373554033          12.451801   \n",
      "1          1995    1995-10-30     30000000  373554033          12.451801   \n",
      "2          1995    1995-10-30     30000000  373554033          12.451801   \n",
      "3          1995    1995-12-15     65000000  262797249           4.043035   \n",
      "4          1995    1995-12-15     65000000  262797249           4.043035   \n",
      "\n",
      "   popularidad  promedio_votos  cantidad_votos  \n",
      "0        21.95             7.7          5415.0  \n",
      "1        21.95             7.7          5415.0  \n",
      "2        21.95             7.7          5415.0  \n",
      "3        17.02             6.9          2413.0  \n",
      "4        17.02             6.9          2413.0  \n",
      "Archivo guardado sin valores cero en las columnas 'presupuesto', 'ingresos' y 'retorno_inversion'.\n"
     ]
    }
   ],
   "source": [
    "# Filtramos y eliminamos las filas donde 'presupuesto', 'ingresos' o 'retorno_inversion' tengan valor cero\n",
    "df_filtered = df[(df['presupuesto'] != 0) & (df['ingresos'] != 0) & (df['retorno_inversion'] != 0)]\n",
    "\n",
    "# Confirmamos  el cambio revisando las primeras filas\n",
    "print(f\"Nueva cantidad de filas después de eliminar valores cero: {df_filtered.shape[0]}\")\n",
    "print(df_filtered.head())\n",
    "\n",
    "# Guardamos el resultado\n",
    "df_filtered.to_csv('C:/Users/jrgsi/OneDrive/Escritorio/PROUECTOS HENRY/SISTEMA DE RECOMENDACION PELICULAS/datos/movies_dataset_desanidado.csv', index=False)\n",
    "print(\"Archivo guardado sin valores cero en las columnas 'presupuesto', 'ingresos' y 'retorno_inversion'.\")\n"
   ]
  },
  {
   "cell_type": "markdown",
   "metadata": {},
   "source": [
    "Realismos un analisis  del Data Frame para ver la imformacion ,datos nulos ,vacios de aver espacios en blaco alrededor de nombres de las columnas lo corregimos"
   ]
  },
  {
   "cell_type": "markdown",
   "metadata": {},
   "source": [
    "Grafico de barras sobre la  imvercion en peliculas por año"
   ]
  },
  {
   "cell_type": "code",
   "execution_count": 10,
   "metadata": {},
   "outputs": [
    {
     "data": {
      "image/png": "[encoded data removed]",
      "text/plain": [
       "<Figure size 1000x600 with 1 Axes>"
      ]
     },
     "metadata": {},
     "output_type": "display_data"
    }
   ],
   "source": [
    "\n",
    "\n",
    "# Verifica que la columna 'presupuesto' esté en el DataFrame\n",
    "if 'presupuesto' in df.columns:\n",
    "    plt.figure(figsize=(10, 6))\n",
    "    plt.hist(df['presupuesto'], bins=50, color='blue')\n",
    "    plt.title('Distribución de Presupuestos de Películas')\n",
    "    plt.xlabel('Presupuesto')\n",
    "    plt.ylabel('Frecuencia')\n",
    "    plt.show()\n",
    "else:\n",
    "    print(\"La columna 'presupuesto' no está en el DataFrame.\")\n",
    "\n"
   ]
  },
  {
   "cell_type": "markdown",
   "metadata": {},
   "source": [
    "Grafico de lo popular que fueron las peliculas por año"
   ]
  },
  {
   "cell_type": "code",
   "execution_count": 16,
   "metadata": {},
   "outputs": [
    {
     "ename": "KeyError",
     "evalue": "'anio_estreno'",
     "output_type": "error",
     "traceback": [
      "\u001b[1;31m---------------------------------------------------------------------------\u001b[0m",
      "\u001b[1;31mKeyError\u001b[0m                                  Traceback (most recent call last)",
      "Cell \u001b[1;32mIn[16], line 4\u001b[0m\n\u001b[0;32m      1\u001b[0m file_path \u001b[38;5;241m=\u001b[39m \u001b[38;5;124m'\u001b[39m\u001b[38;5;124mC:/Users/jrgsi/OneDrive/Escritorio/PROUECTOS HENRY/SISTEMA DE RECOMENDACION PELICULAS/datos/movies_dataset_desanidado.csv\u001b[39m\u001b[38;5;124m'\u001b[39m\n\u001b[0;32m      3\u001b[0m \u001b[38;5;66;03m# Calculamos la popularidad promedio por año de estreno\u001b[39;00m\n\u001b[1;32m----> 4\u001b[0m popularidad_por_anio \u001b[38;5;241m=\u001b[39m \u001b[43mmovies_dataset_desanidado\u001b[49m\u001b[38;5;241;43m.\u001b[39;49m\u001b[43mgroupby\u001b[49m\u001b[43m(\u001b[49m\u001b[38;5;124;43m'\u001b[39;49m\u001b[38;5;124;43manio_estreno\u001b[39;49m\u001b[38;5;124;43m'\u001b[39;49m\u001b[43m)\u001b[49m[\u001b[38;5;124m'\u001b[39m\u001b[38;5;124mpopularidad\u001b[39m\u001b[38;5;124m'\u001b[39m]\u001b[38;5;241m.\u001b[39mmean()\n\u001b[0;32m      6\u001b[0m \u001b[38;5;66;03m# Crear el gráfico de barras\u001b[39;00m\n\u001b[0;32m      7\u001b[0m plt\u001b[38;5;241m.\u001b[39mfigure(figsize\u001b[38;5;241m=\u001b[39m(\u001b[38;5;241m12\u001b[39m, \u001b[38;5;241m6\u001b[39m))\n",
      "File \u001b[1;32mc:\\Users\\jrgsi\\AppData\\Local\\Programs\\Python\\Python312\\Lib\\site-packages\\pandas\\core\\frame.py:9183\u001b[0m, in \u001b[0;36mDataFrame.groupby\u001b[1;34m(self, by, axis, level, as_index, sort, group_keys, observed, dropna)\u001b[0m\n\u001b[0;32m   9180\u001b[0m \u001b[38;5;28;01mif\u001b[39;00m level \u001b[38;5;129;01mis\u001b[39;00m \u001b[38;5;28;01mNone\u001b[39;00m \u001b[38;5;129;01mand\u001b[39;00m by \u001b[38;5;129;01mis\u001b[39;00m \u001b[38;5;28;01mNone\u001b[39;00m:\n\u001b[0;32m   9181\u001b[0m     \u001b[38;5;28;01mraise\u001b[39;00m \u001b[38;5;167;01mTypeError\u001b[39;00m(\u001b[38;5;124m\"\u001b[39m\u001b[38;5;124mYou have to supply one of \u001b[39m\u001b[38;5;124m'\u001b[39m\u001b[38;5;124mby\u001b[39m\u001b[38;5;124m'\u001b[39m\u001b[38;5;124m and \u001b[39m\u001b[38;5;124m'\u001b[39m\u001b[38;5;124mlevel\u001b[39m\u001b[38;5;124m'\u001b[39m\u001b[38;5;124m\"\u001b[39m)\n\u001b[1;32m-> 9183\u001b[0m \u001b[38;5;28;01mreturn\u001b[39;00m \u001b[43mDataFrameGroupBy\u001b[49m\u001b[43m(\u001b[49m\n\u001b[0;32m   9184\u001b[0m \u001b[43m    \u001b[49m\u001b[43mobj\u001b[49m\u001b[38;5;241;43m=\u001b[39;49m\u001b[38;5;28;43mself\u001b[39;49m\u001b[43m,\u001b[49m\n\u001b[0;32m   9185\u001b[0m \u001b[43m    \u001b[49m\u001b[43mkeys\u001b[49m\u001b[38;5;241;43m=\u001b[39;49m\u001b[43mby\u001b[49m\u001b[43m,\u001b[49m\n\u001b[0;32m   9186\u001b[0m \u001b[43m    \u001b[49m\u001b[43maxis\u001b[49m\u001b[38;5;241;43m=\u001b[39;49m\u001b[43maxis\u001b[49m\u001b[43m,\u001b[49m\n\u001b[0;32m   9187\u001b[0m \u001b[43m    \u001b[49m\u001b[43mlevel\u001b[49m\u001b[38;5;241;43m=\u001b[39;49m\u001b[43mlevel\u001b[49m\u001b[43m,\u001b[49m\n\u001b[0;32m   9188\u001b[0m \u001b[43m    \u001b[49m\u001b[43mas_index\u001b[49m\u001b[38;5;241;43m=\u001b[39;49m\u001b[43mas_index\u001b[49m\u001b[43m,\u001b[49m\n\u001b[0;32m   9189\u001b[0m \u001b[43m    \u001b[49m\u001b[43msort\u001b[49m\u001b[38;5;241;43m=\u001b[39;49m\u001b[43msort\u001b[49m\u001b[43m,\u001b[49m\n\u001b[0;32m   9190\u001b[0m \u001b[43m    \u001b[49m\u001b[43mgroup_keys\u001b[49m\u001b[38;5;241;43m=\u001b[39;49m\u001b[43mgroup_keys\u001b[49m\u001b[43m,\u001b[49m\n\u001b[0;32m   9191\u001b[0m \u001b[43m    \u001b[49m\u001b[43mobserved\u001b[49m\u001b[38;5;241;43m=\u001b[39;49m\u001b[43mobserved\u001b[49m\u001b[43m,\u001b[49m\n\u001b[0;32m   9192\u001b[0m \u001b[43m    \u001b[49m\u001b[43mdropna\u001b[49m\u001b[38;5;241;43m=\u001b[39;49m\u001b[43mdropna\u001b[49m\u001b[43m,\u001b[49m\n\u001b[0;32m   9193\u001b[0m \u001b[43m\u001b[49m\u001b[43m)\u001b[49m\n",
      "File \u001b[1;32mc:\\Users\\jrgsi\\AppData\\Local\\Programs\\Python\\Python312\\Lib\\site-packages\\pandas\\core\\groupby\\groupby.py:1329\u001b[0m, in \u001b[0;36mGroupBy.__init__\u001b[1;34m(self, obj, keys, axis, level, grouper, exclusions, selection, as_index, sort, group_keys, observed, dropna)\u001b[0m\n\u001b[0;32m   1326\u001b[0m \u001b[38;5;28mself\u001b[39m\u001b[38;5;241m.\u001b[39mdropna \u001b[38;5;241m=\u001b[39m dropna\n\u001b[0;32m   1328\u001b[0m \u001b[38;5;28;01mif\u001b[39;00m grouper \u001b[38;5;129;01mis\u001b[39;00m \u001b[38;5;28;01mNone\u001b[39;00m:\n\u001b[1;32m-> 1329\u001b[0m     grouper, exclusions, obj \u001b[38;5;241m=\u001b[39m \u001b[43mget_grouper\u001b[49m\u001b[43m(\u001b[49m\n\u001b[0;32m   1330\u001b[0m \u001b[43m        \u001b[49m\u001b[43mobj\u001b[49m\u001b[43m,\u001b[49m\n\u001b[0;32m   1331\u001b[0m \u001b[43m        \u001b[49m\u001b[43mkeys\u001b[49m\u001b[43m,\u001b[49m\n\u001b[0;32m   1332\u001b[0m \u001b[43m        \u001b[49m\u001b[43maxis\u001b[49m\u001b[38;5;241;43m=\u001b[39;49m\u001b[43maxis\u001b[49m\u001b[43m,\u001b[49m\n\u001b[0;32m   1333\u001b[0m \u001b[43m        \u001b[49m\u001b[43mlevel\u001b[49m\u001b[38;5;241;43m=\u001b[39;49m\u001b[43mlevel\u001b[49m\u001b[43m,\u001b[49m\n\u001b[0;32m   1334\u001b[0m \u001b[43m        \u001b[49m\u001b[43msort\u001b[49m\u001b[38;5;241;43m=\u001b[39;49m\u001b[43msort\u001b[49m\u001b[43m,\u001b[49m\n\u001b[0;32m   1335\u001b[0m \u001b[43m        \u001b[49m\u001b[43mobserved\u001b[49m\u001b[38;5;241;43m=\u001b[39;49m\u001b[38;5;28;43;01mFalse\u001b[39;49;00m\u001b[43m \u001b[49m\u001b[38;5;28;43;01mif\u001b[39;49;00m\u001b[43m \u001b[49m\u001b[43mobserved\u001b[49m\u001b[43m \u001b[49m\u001b[38;5;129;43;01mis\u001b[39;49;00m\u001b[43m \u001b[49m\u001b[43mlib\u001b[49m\u001b[38;5;241;43m.\u001b[39;49m\u001b[43mno_default\u001b[49m\u001b[43m \u001b[49m\u001b[38;5;28;43;01melse\u001b[39;49;00m\u001b[43m \u001b[49m\u001b[43mobserved\u001b[49m\u001b[43m,\u001b[49m\n\u001b[0;32m   1336\u001b[0m \u001b[43m        \u001b[49m\u001b[43mdropna\u001b[49m\u001b[38;5;241;43m=\u001b[39;49m\u001b[38;5;28;43mself\u001b[39;49m\u001b[38;5;241;43m.\u001b[39;49m\u001b[43mdropna\u001b[49m\u001b[43m,\u001b[49m\n\u001b[0;32m   1337\u001b[0m \u001b[43m    \u001b[49m\u001b[43m)\u001b[49m\n\u001b[0;32m   1339\u001b[0m \u001b[38;5;28;01mif\u001b[39;00m observed \u001b[38;5;129;01mis\u001b[39;00m lib\u001b[38;5;241m.\u001b[39mno_default:\n\u001b[0;32m   1340\u001b[0m     \u001b[38;5;28;01mif\u001b[39;00m \u001b[38;5;28many\u001b[39m(ping\u001b[38;5;241m.\u001b[39m_passed_categorical \u001b[38;5;28;01mfor\u001b[39;00m ping \u001b[38;5;129;01min\u001b[39;00m grouper\u001b[38;5;241m.\u001b[39mgroupings):\n",
      "File \u001b[1;32mc:\\Users\\jrgsi\\AppData\\Local\\Programs\\Python\\Python312\\Lib\\site-packages\\pandas\\core\\groupby\\grouper.py:1043\u001b[0m, in \u001b[0;36mget_grouper\u001b[1;34m(obj, key, axis, level, sort, observed, validate, dropna)\u001b[0m\n\u001b[0;32m   1041\u001b[0m         in_axis, level, gpr \u001b[38;5;241m=\u001b[39m \u001b[38;5;28;01mFalse\u001b[39;00m, gpr, \u001b[38;5;28;01mNone\u001b[39;00m\n\u001b[0;32m   1042\u001b[0m     \u001b[38;5;28;01melse\u001b[39;00m:\n\u001b[1;32m-> 1043\u001b[0m         \u001b[38;5;28;01mraise\u001b[39;00m \u001b[38;5;167;01mKeyError\u001b[39;00m(gpr)\n\u001b[0;32m   1044\u001b[0m \u001b[38;5;28;01melif\u001b[39;00m \u001b[38;5;28misinstance\u001b[39m(gpr, Grouper) \u001b[38;5;129;01mand\u001b[39;00m gpr\u001b[38;5;241m.\u001b[39mkey \u001b[38;5;129;01mis\u001b[39;00m \u001b[38;5;129;01mnot\u001b[39;00m \u001b[38;5;28;01mNone\u001b[39;00m:\n\u001b[0;32m   1045\u001b[0m     \u001b[38;5;66;03m# Add key to exclusions\u001b[39;00m\n\u001b[0;32m   1046\u001b[0m     exclusions\u001b[38;5;241m.\u001b[39madd(gpr\u001b[38;5;241m.\u001b[39mkey)\n",
      "\u001b[1;31mKeyError\u001b[0m: 'anio_estreno'"
     ]
    }
   ],
   "source": [
    "file_path = 'C:/Users/jrgsi/OneDrive/Escritorio/PROUECTOS HENRY/SISTEMA DE RECOMENDACION PELICULAS/datos/movies_dataset_desanidado.csv'\n",
    "\n",
    "# Calculamos la popularidad promedio por año de estreno\n",
    "popularidad_por_anio = movies_dataset_desanidado.groupby('anio_estreno')['popularidad'].mean()\n",
    "\n",
    "# Crear el gráfico de barras\n",
    "plt.figure(figsize=(12, 6))\n",
    "plt.bar(popularidad_por_anio.index, popularidad_por_anio.values)\n",
    "plt.title('Popularidad Promedio por Año de Estreno')\n",
    "plt.xlabel('Año de Estreno')\n",
    "plt.ylabel('Popularidad Promedio')\n",
    "plt.xticks(rotation=45)  # Rotar etiquetas en el eje X si hay muchos años\n",
    "plt.tight_layout()       # Ajuste para evitar solapamientos\n",
    "plt.show()\n",
    "\n"
   ]
  },
  {
   "cell_type": "markdown",
   "metadata": {},
   "source": []
  }
 ],
 "metadata": {
  "kernelspec": {
   "display_name": "Python 3",
   "language": "python",
   "name": "python3"
  },
  "language_info": {
   "codemirror_mode": {
    "name": "ipython",
    "version": 3
   },
   "file_extension": ".py",
   "mimetype": "text/x-python",
   "name": "python",
   "nbconvert_exporter": "python",
   "pygments_lexer": "ipython3",
   "version": "3.12.3"
  }
 },
 "nbformat": 4,
 "nbformat_minor": 2
}
