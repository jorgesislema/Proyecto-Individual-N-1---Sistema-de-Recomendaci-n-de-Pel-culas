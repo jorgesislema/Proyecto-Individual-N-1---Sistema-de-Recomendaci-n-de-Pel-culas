{
 "cells": [
  {
   "cell_type": "code",
   "execution_count": 21,
   "metadata": {},
   "outputs": [
    {
     "name": "stdout",
     "output_type": "stream",
     "text": [
      "Filtrado realizado. 4939 películas guardadas en 'data_peliculas_reducido.csv'\n"
     ]
    }
   ],
   "source": [
    "import pandas as pd\n",
    "\n",
    "# Cargar el dataset completo\n",
    "ruta_archivo = \"C:/Users/jrgsi/OneDrive/Escritorio/PROUECTOS HENRY/SISTEMA DE RECOMENDACION PELICULAS/datos/data_peliculas.csv\"\n",
    "df = pd.read_csv(ruta_archivo)\n",
    "\n",
    "# Convertir la columna de fecha a tipo datetime para trabajar con años\n",
    "df['fecha_estreno'] = pd.to_datetime(df['fecha_estreno'], errors='coerce')\n",
    "\n",
    "# Filtrar por géneros populares\n",
    "generos_populares = ['Drama', 'Comedy', 'Action', 'Adventure', 'Horror', 'Crime', 'Thriller', 'Animation', 'Fantasy', 'Romance']\n",
    "df = df[df[generos_populares].any(axis=1)]  # Mantener solo películas con al menos uno de los géneros populares\n",
    "\n",
    "# Ordenar por popularidad, promedio de votos y porcentaje de ingresos en orden descendente\n",
    "df = df.sort_values(by=['popularidad', 'promedio_votos', 'porcentage_ganancias'], ascending=False)\n",
    "\n",
    "# Limitar el conjunto a las primeras 50,000 películas de acuerdo a los criterios de relevancia\n",
    "df_filtrado = df.head(50000)\n",
    "\n",
    "# Guardar el DataFrame filtrado en un archivo CSV\n",
    "df_filtrado.to_csv(\"C:/Users/jrgsi/OneDrive/Escritorio/PROUECTOS HENRY/SISTEMA DE RECOMENDACION PELICULAS/datos/data_peliculas_reducido.csv\", index=False)\n",
    "print(f\"Filtrado realizado. {len(df_filtrado)} películas guardadas en 'data_peliculas_reducido.csv'\")\n"
   ]
  },
  {
   "cell_type": "code",
   "execution_count": 1,
   "metadata": {},
   "outputs": [
    {
     "name": "stdout",
     "output_type": "stream",
     "text": [
      "Archivo reducido cargado correctamente.\n",
      "Dimensiones reducidas a 18 componentes con PCA.\n",
      "Modelo guardado como 'modelo_recomendacion_pca.pkl' y títulos guardados como 'titulos.pkl'.\n",
      "Películas recomendadas:\n",
      "1. Three Kings\n",
      "2. The Man from U.N.C.L.E.\n",
      "3. Joy\n",
      "4. Cats & Dogs 2 : The Revenge of Kitty Galore\n",
      "5. The Thin Red Line\n"
     ]
    }
   ],
   "source": [
    "import pandas as pd\n",
    "from sklearn.metrics.pairwise import cosine_similarity\n",
    "from sklearn.neighbors import NearestNeighbors\n",
    "from sklearn.decomposition import PCA\n",
    "import joblib\n",
    "\n",
    "# 1. Cargar el DataFrame de películas reducido\n",
    "try:\n",
    "    ruta_archivo = \"C:/Users/jrgsi/OneDrive/Escritorio/PROUECTOS HENRY/SISTEMA DE RECOMENDACION PELICULAS/datos/data_peliculas_reducido.csv\"\n",
    "    df = pd.read_csv(ruta_archivo)\n",
    "    print(\"Archivo reducido cargado correctamente.\")\n",
    "except Exception as e:\n",
    "    print(\"Error al cargar el archivo:\", e)\n",
    "    exit()\n",
    "\n",
    "# 2. Seleccionar columnas numéricas y de géneros\n",
    "columnas_numericas_y_genero = [\n",
    "    'popularidad', 'promedio_votos', 'presupuesto', 'ingresos', 'porcentage_ganancias',\n",
    "    'Action', 'Adventure', 'Animation', 'Comedy', 'Crime', 'Drama', 'Fantasy', \n",
    "    'Horror', 'Mystery', 'Romance', 'Science Fiction', 'Thriller', 'War'\n",
    "]\n",
    "\n",
    "# Verificar que las columnas existan en el DataFrame\n",
    "for col in columnas_numericas_y_genero:\n",
    "    if col not in df.columns:\n",
    "        print(f\"Columna faltante: {col}\")\n",
    "        exit()\n",
    "\n",
    "# 3. Crear la matriz de características\n",
    "movie_features = df[columnas_numericas_y_genero].fillna(0)\n",
    "\n",
    "# 4. Reducir la dimensionalidad con PCA para optimizar el rendimiento\n",
    "n_componentes = min(30, movie_features.shape[1])  # Reducir a 30 componentes\n",
    "pca = PCA(n_components=n_componentes)\n",
    "movie_features_reducido = pca.fit_transform(movie_features)\n",
    "print(f\"Dimensiones reducidas a {n_componentes} componentes con PCA.\")\n",
    "\n",
    "# 5. Crear el modelo de vecinos más cercanos usando similitud de coseno\n",
    "nbrs = NearestNeighbors(n_neighbors=6, metric='cosine').fit(movie_features_reducido)\n",
    "\n",
    "# Guardar el modelo de recomendación y los títulos de las películas\n",
    "joblib.dump(nbrs, 'modelo_recomendacion_pca.pkl')\n",
    "joblib.dump(df['titulo'], 'titulos.pkl')\n",
    "print(\"Modelo guardado como 'modelo_recomendacion_pca.pkl' y títulos guardados como 'titulos.pkl'.\")\n",
    "\n",
    "# 6. Definir la función de recomendación\n",
    "def recomendacion(titulo_pelicula, num_recomendaciones=5):\n",
    "    # Verificar si la película existe en el DataFrame\n",
    "    if titulo_pelicula not in df['titulo'].values:\n",
    "        return f\"La película '{titulo_pelicula}' no se encuentra en el catálogo.\"\n",
    "\n",
    "    # Obtener el índice de la película en el DataFrame\n",
    "    idx_pelicula = df[df['titulo'] == titulo_pelicula].index[0]\n",
    "    \n",
    "    # Buscar los vecinos más cercanos\n",
    "    _, indices = nbrs.kneighbors([movie_features_reducido[idx_pelicula]])\n",
    "    recomendaciones = df['titulo'].iloc[indices[0][1:num_recomendaciones+1]].values\n",
    "    \n",
    "    return recomendaciones\n",
    "\n",
    "# 7. Solicitar al usuario que ingrese el nombre de una película\n",
    "titulo_pelicula = input(\"Ingresa el nombre de la película para obtener recomendaciones: \").strip()\n",
    "\n",
    "# Verificar que el título no esté vacío antes de continuar\n",
    "if not titulo_pelicula:\n",
    "    print(\"No se ingresó un nombre de película válido. Intenta nuevamente.\")\n",
    "else:\n",
    "    # 8. Obtener y mostrar las recomendaciones\n",
    "    recomendaciones = recomendacion(titulo_pelicula)\n",
    "    if isinstance(recomendaciones, str):\n",
    "        print(recomendaciones)\n",
    "    else:\n",
    "        print(\"Películas recomendadas:\")\n",
    "        for i, pelicula in enumerate(recomendaciones, start=1):\n",
    "            print(f\"{i}. {pelicula}\")\n",
    "\n"
   ]
  }
 ],
 "metadata": {
  "kernelspec": {
   "display_name": "Python (myenv)",
   "language": "python",
   "name": "myenv"
  },
  "language_info": {
   "codemirror_mode": {
    "name": "ipython",
    "version": 3
   },
   "file_extension": ".py",
   "mimetype": "text/x-python",
   "name": "python",
   "nbconvert_exporter": "python",
   "pygments_lexer": "ipython3",
   "version": "3.12.3"
  }
 },
 "nbformat": 4,
 "nbformat_minor": 2
}
